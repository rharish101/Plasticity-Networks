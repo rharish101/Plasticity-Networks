{
 "cells": [
  {
   "cell_type": "code",
   "execution_count": 2,
   "metadata": {},
   "outputs": [
    {
     "name": "stderr",
     "output_type": "stream",
     "text": [
      "/usr/lib/python3.6/site-packages/h5py/__init__.py:34: FutureWarning: Conversion of the second argument of issubdtype from `float` to `np.floating` is deprecated. In future, it will be treated as `np.float64 == np.dtype(float).type`.\n",
      "  from ._conv import register_converters as _register_converters\n"
     ]
    }
   ],
   "source": [
    "from __future__ import print_function\n",
    "from scipy.io import loadmat\n",
    "import numpy as np\n",
    "import tensorflow as tf"
   ]
  },
  {
   "cell_type": "code",
   "execution_count": 12,
   "metadata": {},
   "outputs": [],
   "source": [
    "tf.logging.set_verbosity(tf.logging.INFO)"
   ]
  },
  {
   "cell_type": "code",
   "execution_count": 15,
   "metadata": {},
   "outputs": [],
   "source": [
    "SVHN_LOCATION = \"/mnt/Data/SVHN/\"\n",
    "BATCH_SIZE = 32\n",
    "EPOCHS = 20"
   ]
  },
  {
   "cell_type": "code",
   "execution_count": 4,
   "metadata": {},
   "outputs": [],
   "source": [
    "def preprocessing(img, lbl):\n",
    "    gray_img = tf.image.rgb_to_grayscale(img)\n",
    "    tens_location = tf.equal(lbl, 10 * tf.ones(lbl.shape, dtype=tf.uint8))\n",
    "    tens_with_zeros = tf.where(tens_location, tf.zeros(lbl.shape, dtype=tf.uint8), lbl)\n",
    "    one_hot = tf.one_hot(tf.reshape(tens_with_zeros, [-1]), 10)\n",
    "    return gray_img, one_hot"
   ]
  },
  {
   "cell_type": "code",
   "execution_count": 16,
   "metadata": {},
   "outputs": [],
   "source": [
    "def train_input_fn(train_mat, extra_mat):\n",
    "    train_dataset = tf.data.Dataset.from_tensor_slices((np.moveaxis(train_mat['X'], 3, 0), train_mat['y']))\n",
    "    extra_dataset = tf.data.Dataset.from_tensor_slices((np.moveaxis(extra_mat['X'], 3, 0), extra_mat['y']))\n",
    "\n",
    "    train_dataset = train_dataset.concatenate(extra_dataset).map(preprocessing).shuffle(10000).batch(\n",
    "        BATCH_SIZE).repeat(EPOCHS - 1)\n",
    "\n",
    "    return train_dataset"
   ]
  },
  {
   "cell_type": "code",
   "execution_count": 11,
   "metadata": {},
   "outputs": [],
   "source": [
    "test_input_fn = lambda test_mat: tf.data.Dataset.from_tensor_slices((np.moveaxis(test_mat['X'], 3, 0),\n",
    "    test_mat['y'])).map(preprocessing).batch(BATCH_SIZE)"
   ]
  },
  {
   "cell_type": "code",
   "execution_count": null,
   "metadata": {},
   "outputs": [],
   "source": [
    "def resnet_model(features, labels, mode):\n",
    "    #TODO"
   ]
  },
  {
   "cell_type": "code",
   "execution_count": 14,
   "metadata": {},
   "outputs": [
    {
     "name": "stdout",
     "output_type": "stream",
     "text": [
      "Loading training data...\n",
      "Loading testing data...\n",
      "All data loaded\n"
     ]
    }
   ],
   "source": [
    "print(\"Loading training data...\")\n",
    "train_mat = loadmat(SVHN_LOCATION + \"train_32x32.mat\")\n",
    "extra_mat = loadmat(SVHN_LOCATION + \"extra_32x32.mat\")\n",
    "print(\"Loading testing data...\")\n",
    "test_mat = loadmat(SVHN_LOCATION + \"test_32x32.mat\")\n",
    "print(\"All data loaded\")"
   ]
  },
  {
   "cell_type": "code",
   "execution_count": 13,
   "metadata": {},
   "outputs": [],
   "source": [
    "tensors_to_log = {'accuracy': 'accuracy'}\n",
    "logging_hook = tf.train.LoggingTensorHook(tensors=tensors_to_log, every_n_iter=100)"
   ]
  },
  {
   "cell_type": "code",
   "execution_count": null,
   "metadata": {},
   "outputs": [],
   "source": [
    "model = tf.estimator.Estimator(model_fn=resnet_model, model_dir='./')"
   ]
  },
  {
   "cell_type": "code",
   "execution_count": null,
   "metadata": {},
   "outputs": [],
   "source": [
    "model.train(input_fn=lambda:train_input_fn(train_mat, extra_mat), hooks=logging_hook)"
   ]
  },
  {
   "cell_type": "code",
   "execution_count": null,
   "metadata": {},
   "outputs": [],
   "source": [
    "print(model.evaluate(input_fn=lambda:test_input_fn(test_mat)))"
   ]
  }
 ],
 "metadata": {
  "kernelspec": {
   "display_name": "Python 3",
   "language": "python",
   "name": "python3"
  },
  "language_info": {
   "codemirror_mode": {
    "name": "ipython",
    "version": 3
   },
   "file_extension": ".py",
   "mimetype": "text/x-python",
   "name": "python",
   "nbconvert_exporter": "python",
   "pygments_lexer": "ipython3",
   "version": "3.6.5"
  }
 },
 "nbformat": 4,
 "nbformat_minor": 2
}
