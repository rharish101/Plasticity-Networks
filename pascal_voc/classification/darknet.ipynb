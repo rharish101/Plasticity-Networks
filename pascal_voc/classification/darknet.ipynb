{
 "cells": [
  {
   "cell_type": "code",
   "execution_count": 1,
   "metadata": {},
   "outputs": [],
   "source": [
    "from __future__ import print_function\n",
    "import numpy as np\n",
    "import tensorflow as tf\n",
    "from load_pvoc_data import load_data, TRAIN_LENGTH"
   ]
  },
  {
   "cell_type": "code",
   "execution_count": 3,
   "metadata": {},
   "outputs": [],
   "source": [
    "BATCH_SIZE = 32\n",
    "EPOCHS = 20\n",
    "VALIDATION_SPLIT = 0.3"
   ]
  },
  {
   "cell_type": "code",
   "execution_count": 4,
   "metadata": {},
   "outputs": [],
   "source": [
    "def preprocessing(img, lbl):\n",
    "    crop_img = tf.image.central_crop(img, 1)\n",
    "    resized = tf.image.resize_images(img, (256, 256))\n",
    "    norm_img = tf.image.per_image_standardization(resized)\n",
    "    \n",
    "    one_hot = tf.one_hot(lbl, 20)\n",
    "    summed = tf.reduce_sum(one_hot, axis=-2)\n",
    "    multi_hot = tf.where(\n",
    "        tf.equal(summed, 0), tf.zeros_like(summed, dtype=tf.float32), tf.ones_like(summed, dtype=tf.float32)\n",
    "    )\n",
    "    return norm_img, multi_hot"
   ]
  },
  {
   "cell_type": "code",
   "execution_count": 5,
   "metadata": {},
   "outputs": [],
   "source": [
    "def train_input_fn():\n",
    "    train_dataset = tf.data.Dataset.from_generator(\n",
    "        lambda:load_data(\"train\"),\n",
    "        (tf.uint8, tf.int32),\n",
    "        (tf.TensorShape([None, None, 3]), tf.TensorShape([None]))\n",
    "    ).map(preprocessing).shuffle(10000)\n",
    "    train_dataset = train_dataset.apply(tf.contrib.data.assert_element_shape((\n",
    "        [256, 256, 3],\n",
    "        [20]\n",
    "    )))\n",
    "    \n",
    "    val_length = int(VALIDATION_SPLIT * TRAIN_LENGTH)\n",
    "    val_dataset = train_dataset.take(val_length).apply(\n",
    "        tf.contrib.data.batch_and_drop_remainder(BATCH_SIZE))\n",
    "    train_dataset = train_dataset.skip(val_length).apply(\n",
    "        tf.contrib.data.batch_and_drop_remainder(BATCH_SIZE)).repeat()\n",
    "\n",
    "    return train_dataset, val_dataset"
   ]
  },
  {
   "cell_type": "code",
   "execution_count": 6,
   "metadata": {
    "scrolled": true
   },
   "outputs": [],
   "source": [
    "def test_input_fn():\n",
    "    test_dataset = tf.data.Dataset.from_generator(\n",
    "        lambda:load_data(\"test\"),\n",
    "        (tf.uint8, tf.int32),\n",
    "        (tf.TensorShape([None, None, 3]), tf.TensorShape([None]))\n",
    "    )\n",
    "    test_dataset = test_dataset.map(preprocessing).apply(tf.contrib.data.assert_element_shape((\n",
    "        [256, 256, 3],\n",
    "        [20]\n",
    "    )))\n",
    "    return test_dataset.apply(tf.contrib.data.batch_and_drop_remainder(BATCH_SIZE))"
   ]
  },
  {
   "cell_type": "code",
   "execution_count": 7,
   "metadata": {},
   "outputs": [],
   "source": [
    "def residual_block(inputs, filters):\n",
    "    x = tf.layers.conv2d(inputs=inputs, filters=filters, kernel_size=1,\n",
    "                         strides=1, padding='same')\n",
    "    x = tf.nn.relu(tf.layers.batch_normalization(x))\n",
    "    \n",
    "    x = tf.layers.conv2d(inputs=inputs, filters=(filters * 2), kernel_size=3,\n",
    "                         strides=1, padding='same')\n",
    "    return tf.nn.relu(tf.layers.batch_normalization(x) + inputs)"
   ]
  },
  {
   "cell_type": "code",
   "execution_count": 8,
   "metadata": {},
   "outputs": [],
   "source": [
    "def darknet_block(inputs, filters, repetitions):\n",
    "    x = tf.layers.conv2d(inputs=inputs, filters=filters, kernel_size=3,\n",
    "                         strides=2, padding='same')\n",
    "    x = tf.nn.relu(tf.layers.batch_normalization(x))\n",
    "    for i in range(repetitions):\n",
    "        x = residual_block(x, filters / 2)\n",
    "    return x"
   ]
  },
  {
   "cell_type": "code",
   "execution_count": 9,
   "metadata": {},
   "outputs": [],
   "source": [
    "def darknet_model(features, labels, mode):  \n",
    "    features = tf.cast(features, dtype=tf.float32)\n",
    "    \n",
    "    x = tf.layers.conv2d(inputs=features, filters=32, kernel_size=3,\n",
    "                         strides=1, padding='same')\n",
    "    x = tf.nn.relu(tf.layers.batch_normalization(x))\n",
    "    x = darknet_block(x, 64, 1)\n",
    "    x = darknet_block(x, 128, 2)\n",
    "    x = darknet_block(x, 256, 8)\n",
    "    x = darknet_block(x, 512, 8)\n",
    "    x = darknet_block(x, 1024, 4)\n",
    "    \n",
    "    x = tf.layers.average_pooling2d(x, pool_size=8, strides=8)\n",
    "    x = tf.layers.flatten(x)\n",
    "    x = tf.layers.dense(inputs=x, units=20, kernel_initializer=tf.truncated_normal_initializer())\n",
    "    \n",
    "    classes = tf.where(tf.sigmoid(x) >= 0.5, tf.ones_like(x, dtype=tf.float32), tf.zeros_like(x, dtype=tf.float32))\n",
    "    correct_prediction = tf.equal(classes, labels)\n",
    "    acc = tf.reduce_mean(tf.cast(correct_prediction, tf.float32))\n",
    "    acc = tf.identity(acc, name='accuracy_tensor')\n",
    "    \n",
    "    predictions = {'classes': classes, 'accuracy': acc}\n",
    "    if mode == tf.estimator.ModeKeys.PREDICT:\n",
    "        return tf.estimator.EstimatorSpec(mode=mode, predictions=predictions)\n",
    "    \n",
    "    loss = tf.nn.sigmoid_cross_entropy_with_logits(labels=labels, logits=x)\n",
    "    loss = tf.reduce_mean(loss)\n",
    "    \n",
    "    tf.summary.scalar('accuracy', acc)\n",
    "    tf.summary.scalar('loss', loss)\n",
    "    \n",
    "    if mode == tf.estimator.ModeKeys.TRAIN:\n",
    "        optimizer = tf.contrib.estimator.TowerOptimizer(tf.train.AdamOptimizer(1e-4))\n",
    "        #optimizer = tf.train.AdamOptimizer(1e-5)\n",
    "        train_op = optimizer.minimize(loss=loss, global_step=tf.train.get_global_step())\n",
    "        return tf.estimator.EstimatorSpec(mode=mode, loss=loss, train_op=train_op)\n",
    "\n",
    "    eval_metric_ops = {'accuracy': tf.metrics.accuracy(labels=labels, predictions=classes)}\n",
    "    return tf.estimator.EstimatorSpec(mode=mode, loss=loss,\n",
    "                                      eval_metric_ops=eval_metric_ops)\n"
   ]
  },
  {
   "cell_type": "code",
   "execution_count": 10,
   "metadata": {},
   "outputs": [],
   "source": [
    "tensors_to_log = {'accuracy': 'accuracy_tensor'}\n",
    "logging_hook = tf.train.LoggingTensorHook(tensors=tensors_to_log, every_n_iter=10)"
   ]
  },
  {
   "cell_type": "code",
   "execution_count": 11,
   "metadata": {
    "collapsed": true
   },
   "outputs": [
    {
     "name": "stdout",
     "output_type": "stream",
     "text": [
      "INFO:tensorflow:Replicating the `model_fn` across ['/device:GPU:0', '/device:GPU:1'].  Variables are going to be placed on ['/CPU:0'].  Consolidation device is going to be /CPU:0.\n",
      "INFO:tensorflow:Using config: {'_model_dir': '/tmp/tmpdark', '_task_id': 0, '_num_worker_replicas': 1, '_evaluation_master': '', '_service': None, '_tf_random_seed': None, '_log_step_count_steps': 10, '_save_checkpoints_steps': 150, '_save_checkpoints_secs': None, '_session_config': None, '_keep_checkpoint_max': 5, '_task_type': 'worker', '_global_id_in_cluster': 0, '_master': '', '_is_chief': True, '_save_summary_steps': 10, '_train_distribute': None, '_keep_checkpoint_every_n_hours': 10000, '_num_ps_replicas': 0, '_cluster_spec': <tensorflow.python.training.server_lib.ClusterSpec object at 0x7f2a6586def0>}\n",
      "WARNING:tensorflow:Estimator's model_fn (<function _replicate_model_fn_with_mode.<locals>.replicated_model_fn at 0x7f2a658702f0>) includes params argument, but params are not passed to Estimator.\n"
     ]
    }
   ],
   "source": [
    "model = tf.estimator.Estimator(\n",
    "    model_fn=tf.contrib.estimator.replicate_model_fn(darknet_model),\n",
    "    model_dir='/tmp/tmpdark', config=tf.estimator.RunConfig(\n",
    "        save_checkpoints_steps=150, save_summary_steps=10, log_step_count_steps=10\n",
    "    )\n",
    ")"
   ]
  },
  {
   "cell_type": "code",
   "execution_count": 12,
   "metadata": {
    "collapsed": true
   },
   "outputs": [
    {
     "name": "stdout",
     "output_type": "stream",
     "text": [
      "WARNING:tensorflow:From /users/misc/rharish/resnet_venv/lib/python3.5/site-packages/tensorflow/contrib/learn/python/learn/monitors.py:279: BaseMonitor.__init__ (from tensorflow.contrib.learn.python.learn.monitors) is deprecated and will be removed after 2016-12-05.\n",
      "Instructions for updating:\n",
      "Monitors are deprecated. Please use tf.train.SessionRunHook.\n"
     ]
    }
   ],
   "source": [
    "validation_hook = tf.contrib.learn.monitors.replace_monitors_with_hooks(\n",
    "    [tf.contrib.learn.monitors.ValidationMonitor(\n",
    "        input_fn=lambda:train_input_fn()[1], every_n_steps=100, early_stopping_rounds=10\n",
    "    )],\n",
    "    model\n",
    ")[0]"
   ]
  },
  {
   "cell_type": "code",
   "execution_count": 23,
   "metadata": {
    "scrolled": true
   },
   "outputs": [
    {
     "name": "stdout",
     "output_type": "stream",
     "text": [
      "INFO:tensorflow:Calling model_fn.\n",
      "INFO:tensorflow:Done calling model_fn.\n",
      "INFO:tensorflow:Create CheckpointSaverHook.\n",
      "INFO:tensorflow:Graph was finalized.\n",
      "INFO:tensorflow:Restoring parameters from /tmp/tmpdark/model.ckpt-652\n",
      "INFO:tensorflow:Running local_init_op.\n",
      "INFO:tensorflow:Done running local_init_op.\n",
      "INFO:tensorflow:Saving checkpoints for 653 into /tmp/tmpdark/model.ckpt.\n",
      "INFO:tensorflow:accuracy = 0.934375\n",
      "INFO:tensorflow:Calling model_fn.\n",
      "INFO:tensorflow:Done calling model_fn.\n",
      "INFO:tensorflow:Starting evaluation at 2018-07-10-12:31:29\n",
      "INFO:tensorflow:Graph was finalized.\n",
      "INFO:tensorflow:Restoring parameters from /tmp/tmpdark/model.ckpt-653\n",
      "INFO:tensorflow:Running local_init_op.\n",
      "INFO:tensorflow:Done running local_init_op.\n",
      "INFO:tensorflow:Finished evaluation at 2018-07-10-12:33:31\n",
      "INFO:tensorflow:Saving dict for global step 653: accuracy = 0.9200879, global_step = 653, loss = 0.23294005\n",
      "INFO:tensorflow:Validation (step 653): accuracy = 0.9200879, global_step = 653, loss = 0.23294005\n",
      "INFO:tensorflow:step = 652, loss = 0.19381592\n",
      "INFO:tensorflow:global_step/sec: 0.0772865\n",
      "INFO:tensorflow:accuracy = 0.925 (129.390 sec)\n",
      "INFO:tensorflow:step = 662, loss = 0.2364229 (5.188 sec)\n",
      "INFO:tensorflow:global_step/sec: 2.46562\n",
      "INFO:tensorflow:accuracy = 0.93125 (4.056 sec)\n",
      "INFO:tensorflow:step = 672, loss = 0.20897959 (4.056 sec)\n",
      "INFO:tensorflow:global_step/sec: 2.47623\n",
      "INFO:tensorflow:accuracy = 0.959375 (4.038 sec)\n",
      "INFO:tensorflow:step = 682, loss = 0.16942431 (4.039 sec)\n",
      "INFO:tensorflow:global_step/sec: 2.54439\n",
      "INFO:tensorflow:accuracy = 0.9375 (3.930 sec)\n",
      "INFO:tensorflow:step = 692, loss = 0.21126929 (3.930 sec)\n",
      "INFO:tensorflow:global_step/sec: 2.51798\n",
      "INFO:tensorflow:accuracy = 0.934375 (3.972 sec)\n",
      "INFO:tensorflow:step = 702, loss = 0.17364995 (3.972 sec)\n",
      "INFO:tensorflow:global_step/sec: 2.51294\n",
      "INFO:tensorflow:accuracy = 0.94375 (3.984 sec)\n",
      "INFO:tensorflow:step = 712, loss = 0.17812772 (3.984 sec)\n",
      "INFO:tensorflow:global_step/sec: 3.2452\n",
      "INFO:tensorflow:accuracy = 0.940625 (3.077 sec)\n",
      "INFO:tensorflow:step = 722, loss = 0.15594375 (3.077 sec)\n",
      "INFO:tensorflow:global_step/sec: 3.37966\n",
      "INFO:tensorflow:accuracy = 0.953125 (2.959 sec)\n",
      "INFO:tensorflow:step = 732, loss = 0.17091063 (2.959 sec)\n",
      "INFO:tensorflow:global_step/sec: 3.36464\n",
      "INFO:tensorflow:accuracy = 0.93125 (2.972 sec)\n",
      "INFO:tensorflow:step = 742, loss = 0.20210916 (2.972 sec)\n",
      "INFO:tensorflow:global_step/sec: 3.32775\n",
      "INFO:tensorflow:accuracy = 0.9375 (3.005 sec)\n",
      "INFO:tensorflow:step = 752, loss = 0.16512462 (3.005 sec)\n",
      "INFO:tensorflow:global_step/sec: 3.33839\n",
      "INFO:tensorflow:accuracy = 0.953125 (2.996 sec)\n",
      "INFO:tensorflow:step = 762, loss = 0.18179108 (2.995 sec)\n",
      "INFO:tensorflow:global_step/sec: 3.39128\n",
      "INFO:tensorflow:accuracy = 0.95625 (2.949 sec)\n",
      "INFO:tensorflow:step = 772, loss = 0.15996319 (2.949 sec)\n",
      "INFO:tensorflow:global_step/sec: 3.2952\n",
      "INFO:tensorflow:accuracy = 0.959375 (3.035 sec)\n",
      "INFO:tensorflow:step = 782, loss = 0.13869242 (3.035 sec)\n",
      "INFO:tensorflow:global_step/sec: 3.25074\n",
      "INFO:tensorflow:accuracy = 0.959375 (3.076 sec)\n",
      "INFO:tensorflow:step = 792, loss = 0.17364573 (3.076 sec)\n",
      "INFO:tensorflow:Saving checkpoints for 803 into /tmp/tmpdark/model.ckpt.\n",
      "INFO:tensorflow:global_step/sec: 2.35522\n",
      "INFO:tensorflow:accuracy = 0.940625 (4.246 sec)\n",
      "INFO:tensorflow:step = 802, loss = 0.20743784 (4.246 sec)\n",
      "INFO:tensorflow:global_step/sec: 3.33673\n",
      "INFO:tensorflow:accuracy = 0.95625 (2.997 sec)\n",
      "INFO:tensorflow:step = 812, loss = 0.14909199 (2.996 sec)\n",
      "INFO:tensorflow:global_step/sec: 3.17652\n",
      "INFO:tensorflow:accuracy = 0.959375 (3.148 sec)\n",
      "INFO:tensorflow:step = 822, loss = 0.16061363 (3.149 sec)\n",
      "INFO:tensorflow:global_step/sec: 3.37422\n",
      "INFO:tensorflow:accuracy = 0.95625 (2.963 sec)\n",
      "INFO:tensorflow:step = 832, loss = 0.17411374 (2.963 sec)\n",
      "INFO:tensorflow:global_step/sec: 3.31349\n",
      "INFO:tensorflow:accuracy = 0.91875 (3.018 sec)\n",
      "INFO:tensorflow:step = 842, loss = 0.21556781 (3.018 sec)\n",
      "INFO:tensorflow:global_step/sec: 3.23441\n",
      "INFO:tensorflow:accuracy = 0.928125 (3.092 sec)\n",
      "INFO:tensorflow:step = 852, loss = 0.19794235 (3.092 sec)\n",
      "INFO:tensorflow:Calling model_fn.\n",
      "INFO:tensorflow:Done calling model_fn.\n",
      "INFO:tensorflow:Starting evaluation at 2018-07-10-12:34:42\n",
      "INFO:tensorflow:Graph was finalized.\n",
      "INFO:tensorflow:Restoring parameters from /tmp/tmpdark/model.ckpt-803\n",
      "INFO:tensorflow:Running local_init_op.\n",
      "INFO:tensorflow:Done running local_init_op.\n",
      "INFO:tensorflow:Finished evaluation at 2018-07-10-12:36:47\n",
      "INFO:tensorflow:Saving dict for global step 803: accuracy = 0.9241602, global_step = 803, loss = 0.22623947\n",
      "INFO:tensorflow:Validation (step 853): accuracy = 0.9241602, global_step = 803, loss = 0.22623947\n",
      "INFO:tensorflow:global_step/sec: 0.0770616\n",
      "INFO:tensorflow:accuracy = 0.965625 (129.767 sec)\n",
      "INFO:tensorflow:step = 862, loss = 0.14068127 (129.766 sec)\n",
      "INFO:tensorflow:global_step/sec: 3.34226\n",
      "INFO:tensorflow:accuracy = 0.934375 (2.992 sec)\n",
      "INFO:tensorflow:step = 872, loss = 0.18948022 (2.992 sec)\n",
      "INFO:tensorflow:global_step/sec: 3.42021\n",
      "INFO:tensorflow:accuracy = 0.9375 (2.924 sec)\n",
      "INFO:tensorflow:step = 882, loss = 0.17672887 (2.924 sec)\n",
      "INFO:tensorflow:global_step/sec: 3.3932\n",
      "INFO:tensorflow:accuracy = 0.959375 (2.947 sec)\n",
      "INFO:tensorflow:step = 892, loss = 0.18394825 (2.947 sec)\n",
      "INFO:tensorflow:global_step/sec: 3.39469\n",
      "INFO:tensorflow:accuracy = 0.953125 (2.946 sec)\n",
      "INFO:tensorflow:step = 902, loss = 0.14670178 (2.946 sec)\n",
      "INFO:tensorflow:global_step/sec: 3.40218\n",
      "INFO:tensorflow:accuracy = 0.95 (2.939 sec)\n",
      "INFO:tensorflow:step = 912, loss = 0.18993114 (2.939 sec)\n",
      "INFO:tensorflow:global_step/sec: 3.36364\n",
      "INFO:tensorflow:accuracy = 0.94375 (2.973 sec)\n",
      "INFO:tensorflow:step = 922, loss = 0.17788687 (2.973 sec)\n",
      "INFO:tensorflow:global_step/sec: 3.39884\n",
      "INFO:tensorflow:accuracy = 0.925 (2.942 sec)\n",
      "INFO:tensorflow:step = 932, loss = 0.2032345 (2.942 sec)\n",
      "INFO:tensorflow:global_step/sec: 3.26997\n",
      "INFO:tensorflow:accuracy = 0.959375 (3.058 sec)\n",
      "INFO:tensorflow:step = 942, loss = 0.19816767 (3.058 sec)\n",
      "INFO:tensorflow:Saving checkpoints for 953 into /tmp/tmpdark/model.ckpt.\n",
      "INFO:tensorflow:global_step/sec: 2.35789\n",
      "INFO:tensorflow:accuracy = 0.921875 (4.241 sec)\n",
      "INFO:tensorflow:step = 952, loss = 0.17335412 (4.242 sec)\n",
      "INFO:tensorflow:Calling model_fn.\n",
      "INFO:tensorflow:Done calling model_fn.\n",
      "INFO:tensorflow:Starting evaluation at 2018-07-10-12:37:19\n",
      "INFO:tensorflow:Graph was finalized.\n",
      "INFO:tensorflow:Restoring parameters from /tmp/tmpdark/model.ckpt-953\n",
      "INFO:tensorflow:Running local_init_op.\n",
      "INFO:tensorflow:Done running local_init_op.\n",
      "INFO:tensorflow:Finished evaluation at 2018-07-10-12:39:21\n",
      "INFO:tensorflow:Saving dict for global step 953: accuracy = 0.921123, global_step = 953, loss = 0.22985534\n",
      "INFO:tensorflow:Validation (step 953): accuracy = 0.921123, global_step = 953, loss = 0.22985534\n",
      "INFO:tensorflow:Stopping. Best step: 853 with loss = 0.22623947262763977.\n",
      "INFO:tensorflow:Saving checkpoints for 954 into /tmp/tmpdark/model.ckpt.\n",
      "INFO:tensorflow:Loss for final step: 0.16846469.\n"
     ]
    },
    {
     "data": {
      "text/plain": [
       "<tensorflow.python.estimator.estimator.Estimator at 0x7f0c1652efd0>"
      ]
     },
     "execution_count": 23,
     "metadata": {},
     "output_type": "execute_result"
    }
   ],
   "source": [
    "max_steps = int(((1 - VALIDATION_SPLIT) * TRAIN_LENGTH / BATCH_SIZE) * EPOCHS)\n",
    "model.train(input_fn=lambda:train_input_fn()[0], hooks=[logging_hook, validation_hook],\n",
    "            max_steps=max_steps)"
   ]
  },
  {
   "cell_type": "code",
   "execution_count": 13,
   "metadata": {},
   "outputs": [
    {
     "name": "stdout",
     "output_type": "stream",
     "text": [
      "INFO:tensorflow:Calling model_fn.\n",
      "INFO:tensorflow:Done calling model_fn.\n",
      "INFO:tensorflow:Starting evaluation at 2018-07-10-12:41:42\n",
      "INFO:tensorflow:Graph was finalized.\n",
      "INFO:tensorflow:Restoring parameters from /tmp/tmpdark/model.ckpt-954\n",
      "INFO:tensorflow:Running local_init_op.\n",
      "INFO:tensorflow:Done running local_init_op.\n",
      "INFO:tensorflow:Finished evaluation at 2018-07-10-12:42:30\n",
      "INFO:tensorflow:Saving dict for global step 954: accuracy = 0.9018945, global_step = 954, loss = 0.23933859\n",
      "{'accuracy': 0.9018945, 'global_step': 954, 'loss': 0.23933859}\n"
     ]
    }
   ],
   "source": [
    "print(model.evaluate(input_fn=test_input_fn))"
   ]
  }
 ],
 "metadata": {
  "kernelspec": {
   "display_name": "Python 3",
   "language": "python",
   "name": "python3"
  },
  "language_info": {
   "codemirror_mode": {
    "name": "ipython",
    "version": 3
   },
   "file_extension": ".py",
   "mimetype": "text/x-python",
   "name": "python",
   "nbconvert_exporter": "python",
   "pygments_lexer": "ipython3",
   "version": "3.6.6"
  }
 },
 "nbformat": 4,
 "nbformat_minor": 2
}
