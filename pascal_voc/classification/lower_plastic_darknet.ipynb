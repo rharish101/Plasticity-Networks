{
 "cells": [
  {
   "cell_type": "code",
   "execution_count": 1,
   "metadata": {},
   "outputs": [],
   "source": [
    "from __future__ import print_function\n",
    "import numpy as np\n",
    "import tensorflow as tf\n",
    "from load_pvoc_data import load_data, TRAIN_LENGTH"
   ]
  },
  {
   "cell_type": "code",
   "execution_count": 3,
   "metadata": {},
   "outputs": [],
   "source": [
    "BATCH_SIZE = 32\n",
    "EPOCHS = 4\n",
    "VALIDATION_SPLIT = 0.3"
   ]
  },
  {
   "cell_type": "code",
   "execution_count": 4,
   "metadata": {},
   "outputs": [],
   "source": [
    "def preprocessing(img, lbl):\n",
    "    crop_img = tf.image.central_crop(img, 1)\n",
    "    resized = tf.image.resize_images(img, (256, 256))\n",
    "    norm_img = tf.image.per_image_standardization(resized)\n",
    "    \n",
    "    one_hot = tf.one_hot(lbl, 20)\n",
    "    summed = tf.reduce_sum(one_hot, axis=-2)\n",
    "    multi_hot = tf.where(\n",
    "        tf.equal(summed, 0), tf.zeros_like(summed, dtype=tf.float32), tf.ones_like(summed, dtype=tf.float32)\n",
    "    )\n",
    "    return norm_img, multi_hot"
   ]
  },
  {
   "cell_type": "code",
   "execution_count": 5,
   "metadata": {},
   "outputs": [],
   "source": [
    "def train_input_fn():\n",
    "    train_dataset = tf.data.Dataset.from_generator(\n",
    "        lambda:load_data(\"train\"),\n",
    "        (tf.uint8, tf.int32),\n",
    "        (tf.TensorShape([None, None, 3]), tf.TensorShape([None]))\n",
    "    ).map(preprocessing).shuffle(10000)\n",
    "    train_dataset = train_dataset.apply(tf.contrib.data.assert_element_shape((\n",
    "        [256, 256, 3],\n",
    "        [20]\n",
    "    )))\n",
    "    \n",
    "    val_length = int(VALIDATION_SPLIT * TRAIN_LENGTH)\n",
    "    val_dataset = train_dataset.take(val_length).apply(\n",
    "        tf.contrib.data.batch_and_drop_remainder(BATCH_SIZE))\n",
    "    train_dataset = train_dataset.skip(val_length).apply(\n",
    "        tf.contrib.data.batch_and_drop_remainder(BATCH_SIZE)).repeat()\n",
    "\n",
    "    return train_dataset, val_dataset"
   ]
  },
  {
   "cell_type": "code",
   "execution_count": 6,
   "metadata": {
    "scrolled": true
   },
   "outputs": [],
   "source": [
    "def test_input_fn():\n",
    "    test_dataset = tf.data.Dataset.from_generator(\n",
    "        lambda:load_data(\"test\"),\n",
    "        (tf.uint8, tf.int32),\n",
    "        (tf.TensorShape([None, None, 3]), tf.TensorShape([None]))\n",
    "    )\n",
    "    test_dataset = test_dataset.map(preprocessing).apply(tf.contrib.data.assert_element_shape((\n",
    "        [256, 256, 3],\n",
    "        [20]\n",
    "    )))\n",
    "    return test_dataset.apply(tf.contrib.data.batch_and_drop_remainder(BATCH_SIZE))"
   ]
  },
  {
   "cell_type": "code",
   "execution_count": 7,
   "metadata": {},
   "outputs": [],
   "source": [
    "def conv_layer(inputs, scope_name, eta=None, filters=32, kernel_size=3, strides=1):\n",
    "    with tf.variable_scope(scope_name):\n",
    "        w = tf.get_variable('conv_w', (kernel_size, kernel_size, int(inputs.shape[-1]), filters))\n",
    "        b = tf.get_variable('conv_b', (filters,))\n",
    "        if eta is not None:\n",
    "            alpha = tf.get_variable('conv_alpha', (kernel_size, kernel_size, int(inputs.shape[-1]), filters))\n",
    "            hebb = tf.get_variable('conv_hebb', (kernel_size, kernel_size, int(inputs.shape[-1]), filters),\n",
    "                                   trainable=False, initializer=tf.zeros_initializer)\n",
    "            w = w + tf.multiply(alpha, hebb)\n",
    "    \n",
    "    x = tf.nn.conv2d(input=inputs, filter=w, strides=[1, strides, strides, 1], padding='SAME') + b\n",
    "    \n",
    "    if eta is not None:\n",
    "        # y is to be the output reshaped so as to be used as a kernel for convolution on input to get Hebbian update\n",
    "        y = tf.image.resize_images(x, [int(inputs.shape[1])] * 2)\n",
    "        y = tf.transpose(y, [1, 2, 0, 3])\n",
    "\n",
    "        # in_mod is the input padded a/c to prev. convolution\n",
    "        in_mod = tf.pad(inputs, [\n",
    "            [0, 0],\n",
    "            *([[int(np.floor((kernel_size - 1) / 2)), int(np.ceil((kernel_size - 1) / 2))]] * 2),\n",
    "            [0, 0]\n",
    "        ])\n",
    "        # in_mod is now modded so as to preserve channels and sum over mini-batch samples for Hebbian update convolution\n",
    "        in_mod = tf.transpose(in_mod, [3, 1, 2, 0])\n",
    "\n",
    "        hebb_update = tf.nn.conv2d(input=in_mod, filter=y, strides=([1] * 4), padding='VALID')\n",
    "        hebb = eta * tf.transpose(hebb_update, [1, 2, 0, 3]) + (1 - eta) * hebb\n",
    "    \n",
    "    return tf.nn.leaky_relu(tf.layers.batch_normalization(x))"
   ]
  },
  {
   "cell_type": "code",
   "execution_count": 8,
   "metadata": {},
   "outputs": [],
   "source": [
    "def residual_block(inputs, filters, scope_name, eta=None):\n",
    "    with tf.variable_scope(scope_name):\n",
    "        x = conv_layer(inputs, scope_name='blk_layer_1', eta=eta, filters=filters, kernel_size=1)\n",
    "        x = conv_layer(inputs, scope_name='blk_layer_2', eta=eta, filters=(filters * 2))\n",
    "    return x + inputs"
   ]
  },
  {
   "cell_type": "code",
   "execution_count": 9,
   "metadata": {},
   "outputs": [],
   "source": [
    "def darknet_block(inputs, filters, repetitions, scope_name, eta=None):\n",
    "    with tf.variable_scope(scope_name):\n",
    "        x = conv_layer(inputs, scope_name='blk_layer_0', eta=eta, filters=filters, strides=2)\n",
    "        for i in range(repetitions):\n",
    "            x = residual_block(x, filters / 2, scope_name='blk_rep_' + str(i), eta=eta)\n",
    "    return x"
   ]
  },
  {
   "cell_type": "code",
   "execution_count": 10,
   "metadata": {},
   "outputs": [],
   "source": [
    "def dense_layer(inputs, eta, units):\n",
    "    w = tf.get_variable('dense_w', (int(inputs.shape[1]), units), initializer=tf.truncated_normal_initializer)\n",
    "    alpha = tf.get_variable('dense_alpha', (int(inputs.shape[1]), units), initializer=tf.truncated_normal_initializer)\n",
    "    hebb = tf.get_variable('dense_hebb', (int(inputs.shape[1]), units), trainable=False,\n",
    "                           initializer=tf.truncated_normal_initializer)\n",
    "    b = tf.get_variable('dense_b', (units,), initializer=tf.truncated_normal_initializer)\n",
    "        \n",
    "    y = tf.matmul(inputs, w + tf.multiply(alpha, hebb)) + b\n",
    "    hebb = eta * tf.reduce_mean(tf.matmul(tf.expand_dims(inputs, axis=-1), tf.expand_dims(y, axis=1)), axis=0) +\\\n",
    "           (1 - eta) * hebb\n",
    "    return y"
   ]
  },
  {
   "cell_type": "code",
   "execution_count": 11,
   "metadata": {},
   "outputs": [],
   "source": [
    "def darknet_model(features, labels, mode):  \n",
    "    features = tf.cast(features, dtype=tf.float32)\n",
    "    \n",
    "    eta = tf.get_variable('eta', (1,), initializer=tf.truncated_normal_initializer)\n",
    "    \n",
    "    x = conv_layer(features, scope_name='first', filters=32)\n",
    "    x = darknet_block(x, filters=64, repetitions=1, scope_name='dark_blk_0')\n",
    "    x = darknet_block(x, filters=128, repetitions=2, scope_name='dark_blk_1')\n",
    "    x = darknet_block(x, filters=256, repetitions=8, scope_name='dark_blk_2')\n",
    "    x = darknet_block(x, filters=512, repetitions=8, scope_name='dark_blk_3')\n",
    "    x = darknet_block(x, filters=1024, repetitions=4, scope_name='dark_blk_4', eta=eta)\n",
    "    \n",
    "    x = tf.layers.average_pooling2d(x, pool_size=8, strides=8)\n",
    "    x = tf.layers.flatten(x)\n",
    "    \n",
    "    #x = tf.layers.dense(inputs=x, units=20, kernel_initializer=tf.truncated_normal_initializer())\n",
    "    x = dense_layer(x, eta, units=20)\n",
    "    \n",
    "    classes = tf.where(tf.sigmoid(x) >= 0.5, tf.ones_like(x, dtype=tf.float32), tf.zeros_like(x, dtype=tf.float32))\n",
    "    correct_prediction = tf.equal(classes, labels)\n",
    "    acc = tf.reduce_mean(tf.cast(correct_prediction, tf.float32))\n",
    "    acc = tf.identity(acc, name='accuracy_tensor')\n",
    "    \n",
    "    predictions = {'classes': classes, 'accuracy': acc}\n",
    "    if mode == tf.estimator.ModeKeys.PREDICT:\n",
    "        return tf.estimator.EstimatorSpec(mode=mode, predictions=predictions)\n",
    "    \n",
    "    loss = tf.nn.sigmoid_cross_entropy_with_logits(labels=labels, logits=x)\n",
    "    loss = tf.reduce_mean(loss)\n",
    "    \n",
    "    tf.summary.scalar('accuracy', acc)\n",
    "    tf.summary.scalar('loss', loss)\n",
    "    \n",
    "    if mode == tf.estimator.ModeKeys.TRAIN:\n",
    "        optimizer = tf.contrib.estimator.TowerOptimizer(tf.train.AdamOptimizer(1e-4))\n",
    "        train_op = optimizer.minimize(loss=loss, global_step=tf.train.get_global_step())\n",
    "        return tf.estimator.EstimatorSpec(mode=mode, loss=loss, train_op=train_op)\n",
    "\n",
    "    eval_metric_ops = {'accuracy': tf.metrics.accuracy(labels=labels, predictions=classes)}\n",
    "    return tf.estimator.EstimatorSpec(mode=mode, loss=loss,\n",
    "                                      eval_metric_ops=eval_metric_ops)\n"
   ]
  },
  {
   "cell_type": "code",
   "execution_count": 12,
   "metadata": {},
   "outputs": [],
   "source": [
    "tensors_to_log = {'accuracy': 'accuracy_tensor'}\n",
    "logging_hook = tf.train.LoggingTensorHook(tensors=tensors_to_log, every_n_iter=10)"
   ]
  },
  {
   "cell_type": "code",
   "execution_count": 13,
   "metadata": {
    "collapsed": true
   },
   "outputs": [
    {
     "name": "stdout",
     "output_type": "stream",
     "text": [
      "INFO:tensorflow:Replicating the `model_fn` across ['/device:GPU:0', '/device:GPU:1'].  Variables are going to be placed on ['/CPU:0'].  Consolidation device is going to be /CPU:0.\n",
      "INFO:tensorflow:Using config: {'_keep_checkpoint_every_n_hours': 10000, '_task_type': 'worker', '_cluster_spec': <tensorflow.python.training.server_lib.ClusterSpec object at 0x7f5800b0ba58>, '_save_checkpoints_secs': None, '_is_chief': True, '_train_distribute': None, '_global_id_in_cluster': 0, '_num_ps_replicas': 0, '_service': None, '_save_summary_steps': 10, '_evaluation_master': '', '_keep_checkpoint_max': 5, '_master': '', '_task_id': 0, '_num_worker_replicas': 1, '_save_checkpoints_steps': 150, '_log_step_count_steps': 10, '_session_config': None, '_model_dir': '/tmp/tmplower', '_tf_random_seed': None}\n",
      "WARNING:tensorflow:Estimator's model_fn (<function _replicate_model_fn_with_mode.<locals>.replicated_model_fn at 0x7f5800b0dd08>) includes params argument, but params are not passed to Estimator.\n"
     ]
    }
   ],
   "source": [
    "model = tf.estimator.Estimator(\n",
    "    model_fn=tf.contrib.estimator.replicate_model_fn(darknet_model),\n",
    "    model_dir='/tmp/tmplower', config=tf.estimator.RunConfig(\n",
    "        save_checkpoints_steps=150, save_summary_steps=10, log_step_count_steps=10\n",
    "    )\n",
    ")"
   ]
  },
  {
   "cell_type": "code",
   "execution_count": 14,
   "metadata": {
    "collapsed": true
   },
   "outputs": [
    {
     "name": "stdout",
     "output_type": "stream",
     "text": [
      "WARNING:tensorflow:From /users/misc/rharish/resnet_venv/lib/python3.5/site-packages/tensorflow/contrib/learn/python/learn/monitors.py:279: BaseMonitor.__init__ (from tensorflow.contrib.learn.python.learn.monitors) is deprecated and will be removed after 2016-12-05.\n",
      "Instructions for updating:\n",
      "Monitors are deprecated. Please use tf.train.SessionRunHook.\n"
     ]
    }
   ],
   "source": [
    "validation_hook = tf.contrib.learn.monitors.replace_monitors_with_hooks(\n",
    "    [tf.contrib.learn.monitors.ValidationMonitor(\n",
    "        input_fn=lambda:train_input_fn()[1], every_n_steps=100, early_stopping_rounds=200\n",
    "    )],\n",
    "    model\n",
    ")[0]"
   ]
  },
  {
   "cell_type": "code",
   "execution_count": 15,
   "metadata": {
    "scrolled": true
   },
   "outputs": [
    {
     "name": "stdout",
     "output_type": "stream",
     "text": [
      "INFO:tensorflow:Calling model_fn.\n",
      "INFO:tensorflow:Done calling model_fn.\n",
      "INFO:tensorflow:Create CheckpointSaverHook.\n",
      "INFO:tensorflow:Graph was finalized.\n",
      "INFO:tensorflow:Running local_init_op.\n",
      "INFO:tensorflow:Done running local_init_op.\n",
      "INFO:tensorflow:Saving checkpoints for 1 into /tmp/tmplower/model.ckpt.\n",
      "INFO:tensorflow:accuracy = 0.603125\n",
      "INFO:tensorflow:step = 0, loss = 73.715195\n",
      "INFO:tensorflow:global_step/sec: 1.6145\n",
      "INFO:tensorflow:accuracy = 0.9375 (6.195 sec)\n",
      "INFO:tensorflow:step = 10, loss = 1.8904152 (6.194 sec)\n",
      "INFO:tensorflow:global_step/sec: 2.11125\n",
      "INFO:tensorflow:accuracy = 0.9375 (4.736 sec)\n",
      "INFO:tensorflow:step = 20, loss = 0.3803121 (4.737 sec)\n",
      "INFO:tensorflow:global_step/sec: 2.09088\n",
      "INFO:tensorflow:accuracy = 0.93125 (4.783 sec)\n",
      "INFO:tensorflow:step = 30, loss = 0.1966143 (4.783 sec)\n",
      "INFO:tensorflow:global_step/sec: 2.11112\n",
      "INFO:tensorflow:accuracy = 0.934375 (4.737 sec)\n",
      "INFO:tensorflow:step = 40, loss = 0.20631778 (4.737 sec)\n",
      "INFO:tensorflow:global_step/sec: 2.13189\n",
      "INFO:tensorflow:accuracy = 0.921875 (4.691 sec)\n",
      "INFO:tensorflow:step = 50, loss = 0.21724945 (4.691 sec)\n",
      "INFO:tensorflow:global_step/sec: 2.10918\n",
      "INFO:tensorflow:accuracy = 0.91875 (4.741 sec)\n",
      "INFO:tensorflow:step = 60, loss = 0.20923804 (4.741 sec)\n",
      "INFO:tensorflow:global_step/sec: 2.24471\n",
      "INFO:tensorflow:accuracy = 0.946875 (4.455 sec)\n",
      "INFO:tensorflow:step = 70, loss = 0.1523967 (4.455 sec)\n",
      "INFO:tensorflow:global_step/sec: 2.27848\n",
      "INFO:tensorflow:accuracy = 0.959375 (4.389 sec)\n",
      "INFO:tensorflow:step = 80, loss = 0.15605153 (4.389 sec)\n",
      "INFO:tensorflow:global_step/sec: 2.27788\n",
      "INFO:tensorflow:accuracy = 0.934375 (4.390 sec)\n",
      "INFO:tensorflow:step = 90, loss = 0.19668409 (4.390 sec)\n",
      "INFO:tensorflow:global_step/sec: 2.2736\n",
      "INFO:tensorflow:accuracy = 0.9625 (4.398 sec)\n",
      "INFO:tensorflow:Calling model_fn.\n",
      "INFO:tensorflow:Done calling model_fn.\n",
      "INFO:tensorflow:Starting evaluation at 2018-07-11-02:33:49\n",
      "INFO:tensorflow:Graph was finalized.\n",
      "INFO:tensorflow:Restoring parameters from /tmp/tmplower/model.ckpt-1\n",
      "INFO:tensorflow:Running local_init_op.\n",
      "INFO:tensorflow:Done running local_init_op.\n",
      "INFO:tensorflow:Finished evaluation at 2018-07-11-02:35:46\n",
      "INFO:tensorflow:Saving dict for global step 1: accuracy = 0.73890626, global_step = 1, loss = 71.37824\n",
      "INFO:tensorflow:Validation (step 100): global_step = 1, accuracy = 0.73890626, loss = 71.37824\n",
      "INFO:tensorflow:step = 100, loss = 0.16449381 (124.170 sec)\n",
      "INFO:tensorflow:global_step/sec: 0.0805441\n",
      "INFO:tensorflow:accuracy = 0.95 (124.156 sec)\n",
      "INFO:tensorflow:step = 110, loss = 0.1718235 (4.384 sec)\n",
      "INFO:tensorflow:global_step/sec: 2.27745\n",
      "INFO:tensorflow:accuracy = 0.915625 (4.391 sec)\n",
      "INFO:tensorflow:step = 120, loss = 0.22636929 (4.391 sec)\n",
      "INFO:tensorflow:global_step/sec: 2.27743\n",
      "INFO:tensorflow:accuracy = 0.95625 (4.391 sec)\n",
      "INFO:tensorflow:step = 130, loss = 0.16982615 (4.391 sec)\n",
      "INFO:tensorflow:global_step/sec: 2.27734\n",
      "INFO:tensorflow:accuracy = 0.946875 (4.391 sec)\n",
      "INFO:tensorflow:step = 140, loss = 0.196448 (4.391 sec)\n",
      "INFO:tensorflow:Saving checkpoints for 151 into /tmp/tmplower/model.ckpt.\n",
      "INFO:tensorflow:global_step/sec: 1.68123\n",
      "INFO:tensorflow:accuracy = 0.965625 (5.950 sec)\n",
      "INFO:tensorflow:step = 150, loss = 0.15247181 (5.951 sec)\n",
      "INFO:tensorflow:global_step/sec: 2.27383\n",
      "INFO:tensorflow:accuracy = 0.953125 (4.396 sec)\n",
      "INFO:tensorflow:step = 160, loss = 0.16539022 (4.395 sec)\n",
      "INFO:tensorflow:global_step/sec: 2.27673\n",
      "INFO:tensorflow:accuracy = 0.946875 (4.392 sec)\n",
      "INFO:tensorflow:step = 170, loss = 0.17197387 (4.392 sec)\n",
      "INFO:tensorflow:global_step/sec: 2.27947\n",
      "INFO:tensorflow:accuracy = 0.940625 (4.387 sec)\n",
      "INFO:tensorflow:step = 180, loss = 0.18211311 (4.387 sec)\n",
      "INFO:tensorflow:global_step/sec: 2.27961\n",
      "INFO:tensorflow:accuracy = 0.934375 (4.388 sec)\n",
      "INFO:tensorflow:step = 190, loss = 0.20917718 (4.388 sec)\n",
      "INFO:tensorflow:global_step/sec: 2.27344\n",
      "INFO:tensorflow:accuracy = 0.953125 (4.398 sec)\n",
      "INFO:tensorflow:Calling model_fn.\n",
      "INFO:tensorflow:Done calling model_fn.\n",
      "INFO:tensorflow:Starting evaluation at 2018-07-11-02:36:34\n",
      "INFO:tensorflow:Graph was finalized.\n",
      "INFO:tensorflow:Restoring parameters from /tmp/tmplower/model.ckpt-151\n",
      "INFO:tensorflow:Running local_init_op.\n",
      "INFO:tensorflow:Done running local_init_op.\n",
      "INFO:tensorflow:Finished evaluation at 2018-07-11-02:38:35\n",
      "INFO:tensorflow:Saving dict for global step 151: accuracy = 0.92069334, global_step = 151, loss = 0.2392421\n",
      "INFO:tensorflow:Validation (step 200): global_step = 151, accuracy = 0.92069334, loss = 0.2392421\n",
      "INFO:tensorflow:step = 200, loss = 0.16411918 (127.313 sec)\n",
      "INFO:tensorflow:global_step/sec: 0.0785678\n",
      "INFO:tensorflow:accuracy = 0.959375 (127.279 sec)\n",
      "INFO:tensorflow:step = 210, loss = 0.16330764 (4.363 sec)\n",
      "INFO:tensorflow:global_step/sec: 2.29107\n",
      "INFO:tensorflow:accuracy = 0.971875 (4.365 sec)\n",
      "INFO:tensorflow:step = 220, loss = 0.1464952 (4.365 sec)\n",
      "INFO:tensorflow:global_step/sec: 2.29188\n",
      "INFO:tensorflow:accuracy = 0.940625 (4.363 sec)\n",
      "INFO:tensorflow:step = 230, loss = 0.20552266 (4.363 sec)\n",
      "INFO:tensorflow:global_step/sec: 2.28707\n",
      "INFO:tensorflow:accuracy = 0.94375 (4.372 sec)\n",
      "INFO:tensorflow:step = 240, loss = 0.20386092 (4.372 sec)\n",
      "INFO:tensorflow:global_step/sec: 2.28534\n",
      "INFO:tensorflow:accuracy = 0.95625 (4.376 sec)\n",
      "INFO:tensorflow:step = 250, loss = 0.1870895 (4.376 sec)\n",
      "INFO:tensorflow:global_step/sec: 2.29101\n",
      "INFO:tensorflow:accuracy = 0.95 (4.365 sec)\n",
      "INFO:tensorflow:step = 260, loss = 0.19634472 (4.365 sec)\n",
      "INFO:tensorflow:global_step/sec: 2.28915\n",
      "INFO:tensorflow:accuracy = 0.928125 (4.368 sec)\n",
      "INFO:tensorflow:step = 270, loss = 0.19573207 (4.368 sec)\n",
      "INFO:tensorflow:global_step/sec: 2.29088\n",
      "INFO:tensorflow:accuracy = 0.95 (4.365 sec)\n",
      "INFO:tensorflow:step = 280, loss = 0.19741249 (4.365 sec)\n",
      "INFO:tensorflow:global_step/sec: 2.28893\n",
      "INFO:tensorflow:accuracy = 0.95625 (4.369 sec)\n",
      "INFO:tensorflow:step = 290, loss = 0.18389116 (4.369 sec)\n",
      "INFO:tensorflow:Saving checkpoints for 301 into /tmp/tmplower/model.ckpt.\n",
      "INFO:tensorflow:global_step/sec: 1.68819\n",
      "INFO:tensorflow:accuracy = 0.96875 (5.924 sec)\n",
      "INFO:tensorflow:Calling model_fn.\n",
      "INFO:tensorflow:Done calling model_fn.\n",
      "INFO:tensorflow:Starting evaluation at 2018-07-11-02:39:23\n",
      "INFO:tensorflow:Graph was finalized.\n",
      "INFO:tensorflow:Restoring parameters from /tmp/tmplower/model.ckpt-301\n",
      "INFO:tensorflow:Running local_init_op.\n",
      "INFO:tensorflow:Done running local_init_op.\n",
      "INFO:tensorflow:Finished evaluation at 2018-07-11-02:41:22\n",
      "INFO:tensorflow:Saving dict for global step 301: accuracy = 0.91987306, global_step = 301, loss = 0.24191992\n",
      "INFO:tensorflow:Validation (step 300): global_step = 301, accuracy = 0.91987306, loss = 0.24191992\n",
      "INFO:tensorflow:step = 300, loss = 0.157837 (128.253 sec)\n",
      "INFO:tensorflow:global_step/sec: 0.0789305\n",
      "INFO:tensorflow:accuracy = 0.95625 (126.693 sec)\n",
      "INFO:tensorflow:step = 310, loss = 0.16766123 (4.364 sec)\n",
      "INFO:tensorflow:global_step/sec: 2.29463\n",
      "INFO:tensorflow:accuracy = 0.928125 (4.358 sec)\n",
      "INFO:tensorflow:step = 320, loss = 0.1959284 (4.358 sec)\n",
      "INFO:tensorflow:global_step/sec: 2.29429\n",
      "INFO:tensorflow:accuracy = 0.959375 (4.358 sec)\n",
      "INFO:tensorflow:step = 330, loss = 0.15986907 (4.359 sec)\n",
      "INFO:tensorflow:global_step/sec: 2.29632\n",
      "INFO:tensorflow:accuracy = 0.9375 (4.355 sec)\n",
      "INFO:tensorflow:step = 340, loss = 0.23887418 (4.355 sec)\n",
      "INFO:tensorflow:global_step/sec: 2.29557\n",
      "INFO:tensorflow:accuracy = 0.96875 (4.356 sec)\n",
      "INFO:tensorflow:step = 350, loss = 0.15123498 (4.356 sec)\n",
      "INFO:tensorflow:global_step/sec: 2.29164\n",
      "INFO:tensorflow:accuracy = 0.9375 (4.364 sec)\n",
      "INFO:tensorflow:step = 360, loss = 0.16979477 (4.363 sec)\n",
      "INFO:tensorflow:global_step/sec: 2.2947\n",
      "INFO:tensorflow:accuracy = 0.946875 (4.358 sec)\n",
      "INFO:tensorflow:step = 370, loss = 0.16706756 (4.358 sec)\n",
      "INFO:tensorflow:global_step/sec: 0.0855504\n",
      "INFO:tensorflow:accuracy = 0.95 (116.890 sec)\n",
      "INFO:tensorflow:step = 380, loss = 0.18129823 (116.890 sec)\n",
      "INFO:tensorflow:global_step/sec: 2.09317\n",
      "INFO:tensorflow:accuracy = 0.91875 (4.777 sec)\n",
      "INFO:tensorflow:step = 390, loss = 0.21019882 (4.777 sec)\n",
      "INFO:tensorflow:global_step/sec: 2.08653\n",
      "INFO:tensorflow:accuracy = 0.95 (4.793 sec)\n",
      "INFO:tensorflow:step = 400, loss = 0.16032001 (4.794 sec)\n",
      "INFO:tensorflow:global_step/sec: 2.11815\n",
      "INFO:tensorflow:accuracy = 0.959375 (4.721 sec)\n"
     ]
    },
    {
     "name": "stdout",
     "output_type": "stream",
     "text": [
      "INFO:tensorflow:step = 410, loss = 0.20310351 (4.720 sec)\n",
      "INFO:tensorflow:global_step/sec: 2.108\n",
      "INFO:tensorflow:accuracy = 0.934375 (4.744 sec)\n",
      "INFO:tensorflow:step = 420, loss = 0.19559404 (4.744 sec)\n",
      "INFO:tensorflow:global_step/sec: 2.1234\n",
      "INFO:tensorflow:accuracy = 0.975 (4.709 sec)\n",
      "INFO:tensorflow:step = 430, loss = 0.1523267 (4.710 sec)\n",
      "INFO:tensorflow:global_step/sec: 2.20467\n",
      "INFO:tensorflow:accuracy = 0.946875 (4.536 sec)\n",
      "INFO:tensorflow:step = 440, loss = 0.16601501 (4.535 sec)\n",
      "INFO:tensorflow:Saving checkpoints for 451 into /tmp/tmplower/model.ckpt.\n",
      "INFO:tensorflow:global_step/sec: 1.68707\n",
      "INFO:tensorflow:accuracy = 0.9625 (5.928 sec)\n",
      "INFO:tensorflow:step = 450, loss = 0.15734544 (5.928 sec)\n",
      "INFO:tensorflow:global_step/sec: 2.28649\n",
      "INFO:tensorflow:accuracy = 0.925 (4.373 sec)\n",
      "INFO:tensorflow:step = 460, loss = 0.17600156 (4.373 sec)\n",
      "INFO:tensorflow:global_step/sec: 2.28946\n",
      "INFO:tensorflow:accuracy = 0.93125 (4.368 sec)\n",
      "INFO:tensorflow:step = 470, loss = 0.2007097 (4.368 sec)\n",
      "INFO:tensorflow:global_step/sec: 2.29105\n",
      "INFO:tensorflow:accuracy = 0.965625 (4.365 sec)\n",
      "INFO:tensorflow:step = 480, loss = 0.14108166 (4.365 sec)\n",
      "INFO:tensorflow:global_step/sec: 2.29091\n",
      "INFO:tensorflow:accuracy = 0.965625 (4.365 sec)\n",
      "INFO:tensorflow:step = 490, loss = 0.17718953 (4.365 sec)\n",
      "INFO:tensorflow:global_step/sec: 2.28934\n",
      "INFO:tensorflow:accuracy = 0.934375 (4.368 sec)\n",
      "INFO:tensorflow:Calling model_fn.\n",
      "INFO:tensorflow:Done calling model_fn.\n",
      "INFO:tensorflow:Starting evaluation at 2018-07-11-02:44:48\n",
      "INFO:tensorflow:Graph was finalized.\n",
      "INFO:tensorflow:Restoring parameters from /tmp/tmplower/model.ckpt-451\n",
      "INFO:tensorflow:Running local_init_op.\n",
      "INFO:tensorflow:Done running local_init_op.\n",
      "INFO:tensorflow:Finished evaluation at 2018-07-11-02:46:48\n",
      "INFO:tensorflow:Saving dict for global step 451: accuracy = 0.91930664, global_step = 451, loss = 0.2416157\n",
      "INFO:tensorflow:Validation (step 500): global_step = 451, accuracy = 0.91930664, loss = 0.2416157\n",
      "INFO:tensorflow:Stopping. Best step: 200 with loss = 0.23924210667610168.\n",
      "INFO:tensorflow:step = 500, loss = 0.18924014 (126.536 sec)\n",
      "INFO:tensorflow:Saving checkpoints for 501 into /tmp/tmplower/model.ckpt.\n",
      "INFO:tensorflow:Loss for final step: 0.18924014.\n"
     ]
    },
    {
     "data": {
      "text/plain": [
       "<tensorflow.python.estimator.estimator.Estimator at 0x7f5805a76978>"
      ]
     },
     "execution_count": 15,
     "metadata": {},
     "output_type": "execute_result"
    }
   ],
   "source": [
    "max_steps = int(((1 - VALIDATION_SPLIT) * TRAIN_LENGTH / BATCH_SIZE) * EPOCHS)\n",
    "model.train(input_fn=lambda:train_input_fn()[0], hooks=[logging_hook, validation_hook],\n",
    "            max_steps=max_steps)"
   ]
  },
  {
   "cell_type": "code",
   "execution_count": 16,
   "metadata": {},
   "outputs": [
    {
     "name": "stdout",
     "output_type": "stream",
     "text": [
      "INFO:tensorflow:Calling model_fn.\n",
      "INFO:tensorflow:Done calling model_fn.\n",
      "INFO:tensorflow:Starting evaluation at 2018-07-11-02:46:53\n",
      "INFO:tensorflow:Graph was finalized.\n",
      "INFO:tensorflow:Restoring parameters from /tmp/tmplower/model.ckpt-501\n",
      "INFO:tensorflow:Running local_init_op.\n",
      "INFO:tensorflow:Done running local_init_op.\n",
      "INFO:tensorflow:Finished evaluation at 2018-07-11-02:47:40\n",
      "INFO:tensorflow:Saving dict for global step 501: accuracy = 0.9023047, global_step = 501, loss = 0.24976185\n",
      "{'global_step': 501, 'accuracy': 0.9023047, 'loss': 0.24976185}\n"
     ]
    }
   ],
   "source": [
    "print(model.evaluate(input_fn=test_input_fn))"
   ]
  }
 ],
 "metadata": {
  "kernelspec": {
   "display_name": "Python 3",
   "language": "python",
   "name": "python3"
  },
  "language_info": {
   "codemirror_mode": {
    "name": "ipython",
    "version": 3
   },
   "file_extension": ".py",
   "mimetype": "text/x-python",
   "name": "python",
   "nbconvert_exporter": "python",
   "pygments_lexer": "ipython3",
   "version": "3.6.6"
  }
 },
 "nbformat": 4,
 "nbformat_minor": 2
}
